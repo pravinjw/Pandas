{
 "cells": [
  {
   "cell_type": "markdown",
   "id": "720a3060",
   "metadata": {},
   "source": [
    "## <font color = blue> Pandas "
   ]
  },
  {
   "cell_type": "markdown",
   "id": "05dafd3a",
   "metadata": {},
   "source": [
    "### <font color = blue> Table creation for visualisation"
   ]
  },
  {
   "cell_type": "code",
   "execution_count": 1,
   "id": "1781c106",
   "metadata": {
    "scrolled": true
   },
   "outputs": [
    {
     "name": "stdout",
     "output_type": "stream",
     "text": [
      "Collecting tabulate\n",
      "  Using cached tabulate-0.8.9-py3-none-any.whl (25 kB)\n",
      "Installing collected packages: tabulate\n",
      "Successfully installed tabulate-0.8.9\n"
     ]
    }
   ],
   "source": [
    "#!pip install tabulate"
   ]
  },
  {
   "cell_type": "code",
   "execution_count": 2,
   "id": "a7cf270a",
   "metadata": {},
   "outputs": [],
   "source": [
    "import numpy as np\n",
    "import pandas as pd\n",
    "from tabulate import tabulate as tb"
   ]
  },
  {
   "cell_type": "code",
   "execution_count": 3,
   "id": "f58ebd29",
   "metadata": {},
   "outputs": [],
   "source": [
    "table = [['Srn','Objective','Method'], [1, 'To create dataframe', 'df=pd.DataFrame()']]"
   ]
  },
  {
   "cell_type": "code",
   "execution_count": 9,
   "id": "e2001645",
   "metadata": {},
   "outputs": [
    {
     "name": "stdout",
     "output_type": "stream",
     "text": [
      "╒═══════╤═════════════════════╤═══════════════════╕\n",
      "│   Srn │ Objective           │ Method            │\n",
      "╞═══════╪═════════════════════╪═══════════════════╡\n",
      "│     1 │ To create dataframe │ df=pd.DataFrame() │\n",
      "╘═══════╧═════════════════════╧═══════════════════╛\n"
     ]
    }
   ],
   "source": [
    "print(tb(table, headers='firstrow',tablefmt='fancy_grid'))"
   ]
  },
  {
   "cell_type": "markdown",
   "id": "f23287a2",
   "metadata": {},
   "source": [
    "## <font color = blue> I DataFrame Creation"
   ]
  },
  {
   "cell_type": "markdown",
   "id": "0fbda8e8",
   "metadata": {},
   "source": [
    "### <font color = blue> 1. Creating dataframe from list and tuple\n",
    "\n",
    "Similar way to create dataframe from list and tuple"
   ]
  },
  {
   "cell_type": "code",
   "execution_count": 14,
   "id": "d6d00e50",
   "metadata": {},
   "outputs": [
    {
     "data": {
      "text/html": [
       "<div>\n",
       "<style scoped>\n",
       "    .dataframe tbody tr th:only-of-type {\n",
       "        vertical-align: middle;\n",
       "    }\n",
       "\n",
       "    .dataframe tbody tr th {\n",
       "        vertical-align: top;\n",
       "    }\n",
       "\n",
       "    .dataframe thead th {\n",
       "        text-align: right;\n",
       "    }\n",
       "</style>\n",
       "<table border=\"1\" class=\"dataframe\">\n",
       "  <thead>\n",
       "    <tr style=\"text-align: right;\">\n",
       "      <th></th>\n",
       "      <th>0</th>\n",
       "    </tr>\n",
       "  </thead>\n",
       "  <tbody>\n",
       "    <tr>\n",
       "      <th>1</th>\n",
       "      <td>Pravin</td>\n",
       "    </tr>\n",
       "    <tr>\n",
       "      <th>2</th>\n",
       "      <td>Radhika</td>\n",
       "    </tr>\n",
       "    <tr>\n",
       "      <th>3</th>\n",
       "      <td>Rutvik</td>\n",
       "    </tr>\n",
       "  </tbody>\n",
       "</table>\n",
       "</div>"
      ],
      "text/plain": [
       "         0\n",
       "1   Pravin\n",
       "2  Radhika\n",
       "3   Rutvik"
      ]
     },
     "execution_count": 14,
     "metadata": {},
     "output_type": "execute_result"
    }
   ],
   "source": [
    "l1 = ['Pravin','Radhika','Rutvik']\n",
    "df1 = pd.DataFrame(l1,index = [1,2,3],)\n",
    "df1"
   ]
  },
  {
   "cell_type": "code",
   "execution_count": 16,
   "id": "3b33a3b6",
   "metadata": {},
   "outputs": [
    {
     "data": {
      "text/html": [
       "<div>\n",
       "<style scoped>\n",
       "    .dataframe tbody tr th:only-of-type {\n",
       "        vertical-align: middle;\n",
       "    }\n",
       "\n",
       "    .dataframe tbody tr th {\n",
       "        vertical-align: top;\n",
       "    }\n",
       "\n",
       "    .dataframe thead th {\n",
       "        text-align: right;\n",
       "    }\n",
       "</style>\n",
       "<table border=\"1\" class=\"dataframe\">\n",
       "  <thead>\n",
       "    <tr style=\"text-align: right;\">\n",
       "      <th></th>\n",
       "      <th>Name</th>\n",
       "      <th>Department</th>\n",
       "    </tr>\n",
       "  </thead>\n",
       "  <tbody>\n",
       "    <tr>\n",
       "      <th>1</th>\n",
       "      <td>Pravin</td>\n",
       "      <td>Mechanical</td>\n",
       "    </tr>\n",
       "    <tr>\n",
       "      <th>2</th>\n",
       "      <td>Radhika</td>\n",
       "      <td>Computer</td>\n",
       "    </tr>\n",
       "    <tr>\n",
       "      <th>3</th>\n",
       "      <td>Rutvik</td>\n",
       "      <td>AI</td>\n",
       "    </tr>\n",
       "  </tbody>\n",
       "</table>\n",
       "</div>"
      ],
      "text/plain": [
       "      Name  Department\n",
       "1   Pravin  Mechanical\n",
       "2  Radhika    Computer\n",
       "3   Rutvik          AI"
      ]
     },
     "execution_count": 16,
     "metadata": {},
     "output_type": "execute_result"
    }
   ],
   "source": [
    "# Multiple column table\n",
    "name = ['Pravin','Radhika','Rutvik']\n",
    "dept= ['Mechanical','Computer','AI']\n",
    "df2 = pd.DataFrame(list(zip(name,dept)),index=[1,2,3], columns=['Name','Department'])\n",
    "df2"
   ]
  },
  {
   "cell_type": "code",
   "execution_count": 19,
   "id": "2304ff63",
   "metadata": {},
   "outputs": [
    {
     "data": {
      "text/html": [
       "<div>\n",
       "<style scoped>\n",
       "    .dataframe tbody tr th:only-of-type {\n",
       "        vertical-align: middle;\n",
       "    }\n",
       "\n",
       "    .dataframe tbody tr th {\n",
       "        vertical-align: top;\n",
       "    }\n",
       "\n",
       "    .dataframe thead th {\n",
       "        text-align: right;\n",
       "    }\n",
       "</style>\n",
       "<table border=\"1\" class=\"dataframe\">\n",
       "  <thead>\n",
       "    <tr style=\"text-align: right;\">\n",
       "      <th></th>\n",
       "      <th>Name</th>\n",
       "      <th>Department</th>\n",
       "    </tr>\n",
       "  </thead>\n",
       "  <tbody>\n",
       "    <tr>\n",
       "      <th>1</th>\n",
       "      <td>Pravin</td>\n",
       "      <td>Mechanical</td>\n",
       "    </tr>\n",
       "    <tr>\n",
       "      <th>2</th>\n",
       "      <td>Radhika</td>\n",
       "      <td>Computer</td>\n",
       "    </tr>\n",
       "    <tr>\n",
       "      <th>3</th>\n",
       "      <td>Rutvik</td>\n",
       "      <td>AI</td>\n",
       "    </tr>\n",
       "  </tbody>\n",
       "</table>\n",
       "</div>"
      ],
      "text/plain": [
       "      Name  Department\n",
       "1   Pravin  Mechanical\n",
       "2  Radhika    Computer\n",
       "3   Rutvik          AI"
      ]
     },
     "execution_count": 19,
     "metadata": {},
     "output_type": "execute_result"
    }
   ],
   "source": [
    "# Creating Dataframe from nested list\n",
    "name_dept = [['Pravin','Mechanical'],['Radhika','Computer'],['Rutvik','AI']]\n",
    "df3 = pd.DataFrame(name_dept,index=[1,2,3], columns=['Name','Department'])\n",
    "df3"
   ]
  },
  {
   "cell_type": "markdown",
   "id": "26db4854",
   "metadata": {},
   "source": [
    "### <font color = blue> 2. Creating dataframe from dictionary"
   ]
  },
  {
   "cell_type": "code",
   "execution_count": 29,
   "id": "c591d18f",
   "metadata": {},
   "outputs": [
    {
     "data": {
      "text/html": [
       "<div>\n",
       "<style scoped>\n",
       "    .dataframe tbody tr th:only-of-type {\n",
       "        vertical-align: middle;\n",
       "    }\n",
       "\n",
       "    .dataframe tbody tr th {\n",
       "        vertical-align: top;\n",
       "    }\n",
       "\n",
       "    .dataframe thead th {\n",
       "        text-align: right;\n",
       "    }\n",
       "</style>\n",
       "<table border=\"1\" class=\"dataframe\">\n",
       "  <thead>\n",
       "    <tr style=\"text-align: right;\">\n",
       "      <th></th>\n",
       "      <th>Name</th>\n",
       "      <th>Dept</th>\n",
       "    </tr>\n",
       "  </thead>\n",
       "  <tbody>\n",
       "    <tr>\n",
       "      <th>1</th>\n",
       "      <td>Pravin</td>\n",
       "      <td>Mechanical</td>\n",
       "    </tr>\n",
       "    <tr>\n",
       "      <th>2</th>\n",
       "      <td>Radhika</td>\n",
       "      <td>Computer</td>\n",
       "    </tr>\n",
       "    <tr>\n",
       "      <th>3</th>\n",
       "      <td>Rutvik</td>\n",
       "      <td>AI</td>\n",
       "    </tr>\n",
       "  </tbody>\n",
       "</table>\n",
       "</div>"
      ],
      "text/plain": [
       "      Name        Dept\n",
       "1   Pravin  Mechanical\n",
       "2  Radhika    Computer\n",
       "3   Rutvik          AI"
      ]
     },
     "execution_count": 29,
     "metadata": {},
     "output_type": "execute_result"
    }
   ],
   "source": [
    "# Creating dataframe from dictionary\n",
    "name = ['Pravin','Radhika','Rutvik']\n",
    "dept= ['Mechanical','Computer','AI']\n",
    "d1 = {'Name':name,'Dept':dept}\n",
    "df1 = pd.DataFrame(d1,index=[1,2,3])\n",
    "df1"
   ]
  },
  {
   "cell_type": "code",
   "execution_count": 36,
   "id": "5aba0e16",
   "metadata": {},
   "outputs": [
    {
     "data": {
      "text/html": [
       "<div>\n",
       "<style scoped>\n",
       "    .dataframe tbody tr th:only-of-type {\n",
       "        vertical-align: middle;\n",
       "    }\n",
       "\n",
       "    .dataframe tbody tr th {\n",
       "        vertical-align: top;\n",
       "    }\n",
       "\n",
       "    .dataframe thead th {\n",
       "        text-align: right;\n",
       "    }\n",
       "</style>\n",
       "<table border=\"1\" class=\"dataframe\">\n",
       "  <thead>\n",
       "    <tr style=\"text-align: right;\">\n",
       "      <th></th>\n",
       "      <th>Name</th>\n",
       "      <th>University</th>\n",
       "    </tr>\n",
       "  </thead>\n",
       "  <tbody>\n",
       "    <tr>\n",
       "      <th>0</th>\n",
       "      <td>Ankit</td>\n",
       "      <td>BHU</td>\n",
       "    </tr>\n",
       "    <tr>\n",
       "      <th>1</th>\n",
       "      <td>Aishwarya</td>\n",
       "      <td>JNU</td>\n",
       "    </tr>\n",
       "    <tr>\n",
       "      <th>2</th>\n",
       "      <td>Shaurya</td>\n",
       "      <td>DU</td>\n",
       "    </tr>\n",
       "    <tr>\n",
       "      <th>3</th>\n",
       "      <td>Shivangi</td>\n",
       "      <td>BHU</td>\n",
       "    </tr>\n",
       "  </tbody>\n",
       "</table>\n",
       "</div>"
      ],
      "text/plain": [
       "        Name University\n",
       "0      Ankit        BHU\n",
       "1  Aishwarya        JNU\n",
       "2    Shaurya         DU\n",
       "3   Shivangi        BHU"
      ]
     },
     "execution_count": 36,
     "metadata": {},
     "output_type": "execute_result"
    }
   ],
   "source": [
    "# Dataframe from dictionary, values as list\n",
    "details = {\n",
    "    'Name' : ['Ankit', 'Aishwarya', 'Shaurya', 'Shivangi'],\n",
    "    'Age' : [23, 21, 22, 21],\n",
    "    'University' : ['BHU', 'JNU', 'DU', 'BHU'],\n",
    "}\n",
    "  \n",
    "df2 = pd.DataFrame(details, columns = ['Name', 'University'])\n",
    "  \n",
    "df2"
   ]
  },
  {
   "cell_type": "code",
   "execution_count": 41,
   "id": "333b9477",
   "metadata": {},
   "outputs": [
    {
     "data": {
      "text/html": [
       "<div>\n",
       "<style scoped>\n",
       "    .dataframe tbody tr th:only-of-type {\n",
       "        vertical-align: middle;\n",
       "    }\n",
       "\n",
       "    .dataframe tbody tr th {\n",
       "        vertical-align: top;\n",
       "    }\n",
       "\n",
       "    .dataframe thead th {\n",
       "        text-align: right;\n",
       "    }\n",
       "</style>\n",
       "<table border=\"1\" class=\"dataframe\">\n",
       "  <thead>\n",
       "    <tr style=\"text-align: right;\">\n",
       "      <th></th>\n",
       "      <th>0</th>\n",
       "      <th>1</th>\n",
       "      <th>2</th>\n",
       "    </tr>\n",
       "  </thead>\n",
       "  <tbody>\n",
       "    <tr>\n",
       "      <th>Name</th>\n",
       "      <td>Ankit</td>\n",
       "      <td>Aishwarya</td>\n",
       "      <td>Shaurya</td>\n",
       "    </tr>\n",
       "    <tr>\n",
       "      <th>Age</th>\n",
       "      <td>22</td>\n",
       "      <td>21</td>\n",
       "      <td>23</td>\n",
       "    </tr>\n",
       "    <tr>\n",
       "      <th>University</th>\n",
       "      <td>BHU</td>\n",
       "      <td>JNU</td>\n",
       "      <td>DU</td>\n",
       "    </tr>\n",
       "  </tbody>\n",
       "</table>\n",
       "</div>"
      ],
      "text/plain": [
       "                0          1        2\n",
       "Name        Ankit  Aishwarya  Shaurya\n",
       "Age            22         21       23\n",
       "University    BHU        JNU       DU"
      ]
     },
     "execution_count": 41,
     "metadata": {},
     "output_type": "execute_result"
    }
   ],
   "source": [
    "# Dataframe from nested dictionary\n",
    "details = {\n",
    "    0 : {'Name' : 'Ankit','Age' : 22,'University' : 'BHU'},\n",
    "    1 : {'Name' : 'Aishwarya','Age' : 21,'University' : 'JNU'},\n",
    "    2 : {'Name' : 'Shaurya','Age' : 23,'University' : 'DU'}\n",
    "            }\n",
    "\n",
    "df3 = pd.DataFrame(details)\n",
    "df3"
   ]
  },
  {
   "cell_type": "markdown",
   "id": "97561a90",
   "metadata": {},
   "source": [
    "### <font color = blue> 3. Filling empty dataframe"
   ]
  },
  {
   "cell_type": "code",
   "execution_count": 43,
   "id": "8c19632c",
   "metadata": {},
   "outputs": [
    {
     "data": {
      "text/html": [
       "<div>\n",
       "<style scoped>\n",
       "    .dataframe tbody tr th:only-of-type {\n",
       "        vertical-align: middle;\n",
       "    }\n",
       "\n",
       "    .dataframe tbody tr th {\n",
       "        vertical-align: top;\n",
       "    }\n",
       "\n",
       "    .dataframe thead th {\n",
       "        text-align: right;\n",
       "    }\n",
       "</style>\n",
       "<table border=\"1\" class=\"dataframe\">\n",
       "  <thead>\n",
       "    <tr style=\"text-align: right;\">\n",
       "      <th></th>\n",
       "      <th>Name</th>\n",
       "      <th>dept</th>\n",
       "    </tr>\n",
       "  </thead>\n",
       "  <tbody>\n",
       "    <tr>\n",
       "      <th>0</th>\n",
       "      <td>Pravin</td>\n",
       "      <td>Mechanical</td>\n",
       "    </tr>\n",
       "    <tr>\n",
       "      <th>1</th>\n",
       "      <td>Radhika</td>\n",
       "      <td>Computer</td>\n",
       "    </tr>\n",
       "    <tr>\n",
       "      <th>2</th>\n",
       "      <td>Rutvik</td>\n",
       "      <td>AI</td>\n",
       "    </tr>\n",
       "  </tbody>\n",
       "</table>\n",
       "</div>"
      ],
      "text/plain": [
       "      Name        dept\n",
       "0   Pravin  Mechanical\n",
       "1  Radhika    Computer\n",
       "2   Rutvik          AI"
      ]
     },
     "execution_count": 43,
     "metadata": {},
     "output_type": "execute_result"
    }
   ],
   "source": [
    "df = pd.DataFrame()\n",
    "df['Name'] = ['Pravin','Radhika','Rutvik']\n",
    "df['dept'] = ['Mechanical','Computer','AI']\n",
    "df"
   ]
  },
  {
   "cell_type": "markdown",
   "id": "79867639",
   "metadata": {},
   "source": [
    "### <font color = blue> 4. Dataframe from csv / excel"
   ]
  },
  {
   "cell_type": "code",
   "execution_count": 51,
   "id": "49e0b049",
   "metadata": {
    "scrolled": true
   },
   "outputs": [
    {
     "data": {
      "text/html": [
       "<div>\n",
       "<style scoped>\n",
       "    .dataframe tbody tr th:only-of-type {\n",
       "        vertical-align: middle;\n",
       "    }\n",
       "\n",
       "    .dataframe tbody tr th {\n",
       "        vertical-align: top;\n",
       "    }\n",
       "\n",
       "    .dataframe thead th {\n",
       "        text-align: right;\n",
       "    }\n",
       "</style>\n",
       "<table border=\"1\" class=\"dataframe\">\n",
       "  <thead>\n",
       "    <tr style=\"text-align: right;\">\n",
       "      <th></th>\n",
       "      <th>Id</th>\n",
       "      <th>SepalLengthCm</th>\n",
       "      <th>SepalWidthCm</th>\n",
       "      <th>PetalLengthCm</th>\n",
       "      <th>PetalWidthCm</th>\n",
       "      <th>Species</th>\n",
       "    </tr>\n",
       "  </thead>\n",
       "  <tbody>\n",
       "    <tr>\n",
       "      <th>0</th>\n",
       "      <td>1</td>\n",
       "      <td>5.1</td>\n",
       "      <td>3.5</td>\n",
       "      <td>1.4</td>\n",
       "      <td>0.2</td>\n",
       "      <td>Iris-setosa</td>\n",
       "    </tr>\n",
       "    <tr>\n",
       "      <th>1</th>\n",
       "      <td>2</td>\n",
       "      <td>4.9</td>\n",
       "      <td>3.0</td>\n",
       "      <td>1.4</td>\n",
       "      <td>0.2</td>\n",
       "      <td>Iris-setosa</td>\n",
       "    </tr>\n",
       "    <tr>\n",
       "      <th>2</th>\n",
       "      <td>3</td>\n",
       "      <td>4.7</td>\n",
       "      <td>3.2</td>\n",
       "      <td>1.3</td>\n",
       "      <td>0.2</td>\n",
       "      <td>Iris-setosa</td>\n",
       "    </tr>\n",
       "    <tr>\n",
       "      <th>3</th>\n",
       "      <td>4</td>\n",
       "      <td>4.6</td>\n",
       "      <td>3.1</td>\n",
       "      <td>1.5</td>\n",
       "      <td>0.2</td>\n",
       "      <td>Iris-setosa</td>\n",
       "    </tr>\n",
       "    <tr>\n",
       "      <th>4</th>\n",
       "      <td>5</td>\n",
       "      <td>5.0</td>\n",
       "      <td>3.6</td>\n",
       "      <td>1.4</td>\n",
       "      <td>0.2</td>\n",
       "      <td>Iris-setosa</td>\n",
       "    </tr>\n",
       "  </tbody>\n",
       "</table>\n",
       "</div>"
      ],
      "text/plain": [
       "   Id  SepalLengthCm  SepalWidthCm  PetalLengthCm  PetalWidthCm      Species\n",
       "0   1            5.1           3.5            1.4           0.2  Iris-setosa\n",
       "1   2            4.9           3.0            1.4           0.2  Iris-setosa\n",
       "2   3            4.7           3.2            1.3           0.2  Iris-setosa\n",
       "3   4            4.6           3.1            1.5           0.2  Iris-setosa\n",
       "4   5            5.0           3.6            1.4           0.2  Iris-setosa"
      ]
     },
     "execution_count": 51,
     "metadata": {},
     "output_type": "execute_result"
    }
   ],
   "source": [
    "df_iris = pd.read_csv(r'D:\\Data Science\\Jupyter\\Notes\\ML\\Ada Boost\\Class\\Adaboost Algorithm\\Iris.csv')\n",
    "df_iris.head()"
   ]
  },
  {
   "cell_type": "markdown",
   "id": "4b231dd7",
   "metadata": {},
   "source": [
    "### <font color = blue> 5. Dataframe Numpy Array"
   ]
  },
  {
   "cell_type": "code",
   "execution_count": 50,
   "id": "3350dd1a",
   "metadata": {},
   "outputs": [
    {
     "data": {
      "text/html": [
       "<div>\n",
       "<style scoped>\n",
       "    .dataframe tbody tr th:only-of-type {\n",
       "        vertical-align: middle;\n",
       "    }\n",
       "\n",
       "    .dataframe tbody tr th {\n",
       "        vertical-align: top;\n",
       "    }\n",
       "\n",
       "    .dataframe thead th {\n",
       "        text-align: right;\n",
       "    }\n",
       "</style>\n",
       "<table border=\"1\" class=\"dataframe\">\n",
       "  <thead>\n",
       "    <tr style=\"text-align: right;\">\n",
       "      <th></th>\n",
       "      <th>0</th>\n",
       "      <th>1</th>\n",
       "      <th>2</th>\n",
       "    </tr>\n",
       "  </thead>\n",
       "  <tbody>\n",
       "    <tr>\n",
       "      <th>0</th>\n",
       "      <td>1</td>\n",
       "      <td>2</td>\n",
       "      <td>3</td>\n",
       "    </tr>\n",
       "    <tr>\n",
       "      <th>1</th>\n",
       "      <td>4</td>\n",
       "      <td>5</td>\n",
       "      <td>6</td>\n",
       "    </tr>\n",
       "  </tbody>\n",
       "</table>\n",
       "</div>"
      ],
      "text/plain": [
       "   0  1  2\n",
       "0  1  2  3\n",
       "1  4  5  6"
      ]
     },
     "execution_count": 50,
     "metadata": {},
     "output_type": "execute_result"
    }
   ],
   "source": [
    "# Dataframe from array\n",
    "array = np.array([[1,2,3],[4,5,6]])\n",
    "df = pd.DataFrame(array)\n",
    "df"
   ]
  },
  {
   "cell_type": "markdown",
   "id": "a827d159",
   "metadata": {},
   "source": [
    "### <font color = blue> 6. Dataframe by importing datafrom MySQL"
   ]
  },
  {
   "cell_type": "markdown",
   "id": "501bc90f",
   "metadata": {},
   "source": [
    "### <font color = blue> 7. Dataframe by importing datafrom MongoDB"
   ]
  },
  {
   "cell_type": "markdown",
   "id": "c483acd5",
   "metadata": {},
   "source": [
    "## <font color = blue> II Basic Operations"
   ]
  },
  {
   "cell_type": "code",
   "execution_count": 65,
   "id": "7083cc31",
   "metadata": {},
   "outputs": [
    {
     "name": "stdout",
     "output_type": "stream",
     "text": [
      "<class 'pandas.core.frame.DataFrame'>\n",
      "RangeIndex: 150 entries, 0 to 149\n",
      "Data columns (total 6 columns):\n",
      " #   Column         Non-Null Count  Dtype  \n",
      "---  ------         --------------  -----  \n",
      " 0   Id             150 non-null    int64  \n",
      " 1   SepalLengthCm  150 non-null    float64\n",
      " 2   SepalWidthCm   150 non-null    float64\n",
      " 3   PetalLengthCm  150 non-null    float64\n",
      " 4   PetalWidthCm   150 non-null    float64\n",
      " 5   Species        150 non-null    object \n",
      "dtypes: float64(4), int64(1), object(1)\n",
      "memory usage: 7.2+ KB\n"
     ]
    },
    {
     "data": {
      "text/html": [
       "<div>\n",
       "<style scoped>\n",
       "    .dataframe tbody tr th:only-of-type {\n",
       "        vertical-align: middle;\n",
       "    }\n",
       "\n",
       "    .dataframe tbody tr th {\n",
       "        vertical-align: top;\n",
       "    }\n",
       "\n",
       "    .dataframe thead th {\n",
       "        text-align: right;\n",
       "    }\n",
       "</style>\n",
       "<table border=\"1\" class=\"dataframe\">\n",
       "  <thead>\n",
       "    <tr style=\"text-align: right;\">\n",
       "      <th></th>\n",
       "      <th>Id</th>\n",
       "      <th>SepalLengthCm</th>\n",
       "      <th>SepalWidthCm</th>\n",
       "      <th>PetalLengthCm</th>\n",
       "      <th>PetalWidthCm</th>\n",
       "    </tr>\n",
       "  </thead>\n",
       "  <tbody>\n",
       "    <tr>\n",
       "      <th>count</th>\n",
       "      <td>150.000000</td>\n",
       "      <td>150.000000</td>\n",
       "      <td>150.000000</td>\n",
       "      <td>150.000000</td>\n",
       "      <td>150.000000</td>\n",
       "    </tr>\n",
       "    <tr>\n",
       "      <th>mean</th>\n",
       "      <td>75.500000</td>\n",
       "      <td>5.843333</td>\n",
       "      <td>3.054000</td>\n",
       "      <td>3.758667</td>\n",
       "      <td>1.198667</td>\n",
       "    </tr>\n",
       "    <tr>\n",
       "      <th>std</th>\n",
       "      <td>43.445368</td>\n",
       "      <td>0.828066</td>\n",
       "      <td>0.433594</td>\n",
       "      <td>1.764420</td>\n",
       "      <td>0.763161</td>\n",
       "    </tr>\n",
       "    <tr>\n",
       "      <th>min</th>\n",
       "      <td>1.000000</td>\n",
       "      <td>4.300000</td>\n",
       "      <td>2.000000</td>\n",
       "      <td>1.000000</td>\n",
       "      <td>0.100000</td>\n",
       "    </tr>\n",
       "    <tr>\n",
       "      <th>25%</th>\n",
       "      <td>38.250000</td>\n",
       "      <td>5.100000</td>\n",
       "      <td>2.800000</td>\n",
       "      <td>1.600000</td>\n",
       "      <td>0.300000</td>\n",
       "    </tr>\n",
       "    <tr>\n",
       "      <th>50%</th>\n",
       "      <td>75.500000</td>\n",
       "      <td>5.800000</td>\n",
       "      <td>3.000000</td>\n",
       "      <td>4.350000</td>\n",
       "      <td>1.300000</td>\n",
       "    </tr>\n",
       "    <tr>\n",
       "      <th>75%</th>\n",
       "      <td>112.750000</td>\n",
       "      <td>6.400000</td>\n",
       "      <td>3.300000</td>\n",
       "      <td>5.100000</td>\n",
       "      <td>1.800000</td>\n",
       "    </tr>\n",
       "    <tr>\n",
       "      <th>max</th>\n",
       "      <td>150.000000</td>\n",
       "      <td>7.900000</td>\n",
       "      <td>4.400000</td>\n",
       "      <td>6.900000</td>\n",
       "      <td>2.500000</td>\n",
       "    </tr>\n",
       "  </tbody>\n",
       "</table>\n",
       "</div>"
      ],
      "text/plain": [
       "               Id  SepalLengthCm  SepalWidthCm  PetalLengthCm  PetalWidthCm\n",
       "count  150.000000     150.000000    150.000000     150.000000    150.000000\n",
       "mean    75.500000       5.843333      3.054000       3.758667      1.198667\n",
       "std     43.445368       0.828066      0.433594       1.764420      0.763161\n",
       "min      1.000000       4.300000      2.000000       1.000000      0.100000\n",
       "25%     38.250000       5.100000      2.800000       1.600000      0.300000\n",
       "50%     75.500000       5.800000      3.000000       4.350000      1.300000\n",
       "75%    112.750000       6.400000      3.300000       5.100000      1.800000\n",
       "max    150.000000       7.900000      4.400000       6.900000      2.500000"
      ]
     },
     "execution_count": 65,
     "metadata": {},
     "output_type": "execute_result"
    }
   ],
   "source": [
    "# Basic Operations\n",
    "\n",
    "# Display functions\n",
    "df_iris.head()   # displays top rows\n",
    "df_iris.tail()   # display tail rows\n",
    "df_iris.sample(5) # display random rows\n",
    "\n",
    "# Information about dataframe\n",
    "df_iris.info()\n",
    "df_iris.shape\n",
    "df_iris.columns\n",
    "df_iris.axes\n",
    "\n",
    "# Statistical Information\n",
    "df_iris.describe()"
   ]
  },
  {
   "cell_type": "markdown",
   "id": "031f9421",
   "metadata": {},
   "source": [
    "## <font color = blue> III Writting Data to csv and excel"
   ]
  },
  {
   "cell_type": "code",
   "execution_count": 72,
   "id": "1a79db24",
   "metadata": {},
   "outputs": [],
   "source": [
    "# writting data to csv\n",
    "df_iris.describe().to_csv('Describe.csv')\n",
    "\n",
    "# writting data to Excel\n",
    "df_iris.describe().to_excel('Describe.xlsx')\n",
    "\n",
    "# writting data to html >> creats a table to display on web\n",
    "df_iris.describe().to_html('s.html')\n",
    "\n",
    "# apart from above, there are other methods..........can be explorred"
   ]
  },
  {
   "cell_type": "markdown",
   "id": "8d6fd98a",
   "metadata": {},
   "source": [
    "## <font color = blue> IV Dataframe Slicing"
   ]
  },
  {
   "cell_type": "markdown",
   "id": "40473060",
   "metadata": {},
   "source": [
    "### <font color = blue> 1 Dataframe Slicing "
   ]
  },
  {
   "cell_type": "code",
   "execution_count": 77,
   "id": "74cd468f",
   "metadata": {},
   "outputs": [
    {
     "data": {
      "text/html": [
       "<div>\n",
       "<style scoped>\n",
       "    .dataframe tbody tr th:only-of-type {\n",
       "        vertical-align: middle;\n",
       "    }\n",
       "\n",
       "    .dataframe tbody tr th {\n",
       "        vertical-align: top;\n",
       "    }\n",
       "\n",
       "    .dataframe thead th {\n",
       "        text-align: right;\n",
       "    }\n",
       "</style>\n",
       "<table border=\"1\" class=\"dataframe\">\n",
       "  <thead>\n",
       "    <tr style=\"text-align: right;\">\n",
       "      <th></th>\n",
       "      <th>Species</th>\n",
       "      <th>SepalLengthCm</th>\n",
       "    </tr>\n",
       "  </thead>\n",
       "  <tbody>\n",
       "    <tr>\n",
       "      <th>0</th>\n",
       "      <td>Iris-setosa</td>\n",
       "      <td>5.1</td>\n",
       "    </tr>\n",
       "    <tr>\n",
       "      <th>1</th>\n",
       "      <td>Iris-setosa</td>\n",
       "      <td>4.9</td>\n",
       "    </tr>\n",
       "    <tr>\n",
       "      <th>2</th>\n",
       "      <td>Iris-setosa</td>\n",
       "      <td>4.7</td>\n",
       "    </tr>\n",
       "    <tr>\n",
       "      <th>3</th>\n",
       "      <td>Iris-setosa</td>\n",
       "      <td>4.6</td>\n",
       "    </tr>\n",
       "    <tr>\n",
       "      <th>4</th>\n",
       "      <td>Iris-setosa</td>\n",
       "      <td>5.0</td>\n",
       "    </tr>\n",
       "  </tbody>\n",
       "</table>\n",
       "</div>"
      ],
      "text/plain": [
       "       Species  SepalLengthCm\n",
       "0  Iris-setosa            5.1\n",
       "1  Iris-setosa            4.9\n",
       "2  Iris-setosa            4.7\n",
       "3  Iris-setosa            4.6\n",
       "4  Iris-setosa            5.0"
      ]
     },
     "execution_count": 77,
     "metadata": {},
     "output_type": "execute_result"
    }
   ],
   "source": [
    "# Slicing dataframe column wise\n",
    "df1 = df_iris[['Species','SepalLengthCm']]\n",
    "df1.head()"
   ]
  },
  {
   "cell_type": "code",
   "execution_count": 78,
   "id": "7115011e",
   "metadata": {},
   "outputs": [
    {
     "data": {
      "text/html": [
       "<div>\n",
       "<style scoped>\n",
       "    .dataframe tbody tr th:only-of-type {\n",
       "        vertical-align: middle;\n",
       "    }\n",
       "\n",
       "    .dataframe tbody tr th {\n",
       "        vertical-align: top;\n",
       "    }\n",
       "\n",
       "    .dataframe thead th {\n",
       "        text-align: right;\n",
       "    }\n",
       "</style>\n",
       "<table border=\"1\" class=\"dataframe\">\n",
       "  <thead>\n",
       "    <tr style=\"text-align: right;\">\n",
       "      <th></th>\n",
       "      <th>Species</th>\n",
       "      <th>SepalLengthCm</th>\n",
       "    </tr>\n",
       "  </thead>\n",
       "  <tbody>\n",
       "    <tr>\n",
       "      <th>2</th>\n",
       "      <td>Iris-setosa</td>\n",
       "      <td>4.7</td>\n",
       "    </tr>\n",
       "    <tr>\n",
       "      <th>3</th>\n",
       "      <td>Iris-setosa</td>\n",
       "      <td>4.6</td>\n",
       "    </tr>\n",
       "    <tr>\n",
       "      <th>4</th>\n",
       "      <td>Iris-setosa</td>\n",
       "      <td>5.0</td>\n",
       "    </tr>\n",
       "  </tbody>\n",
       "</table>\n",
       "</div>"
      ],
      "text/plain": [
       "       Species  SepalLengthCm\n",
       "2  Iris-setosa            4.7\n",
       "3  Iris-setosa            4.6\n",
       "4  Iris-setosa            5.0"
      ]
     },
     "execution_count": 78,
     "metadata": {},
     "output_type": "execute_result"
    }
   ],
   "source": [
    "# Slicing dataframe column wise as well as row wise\n",
    "df1 = df_iris[['Species','SepalLengthCm']][2:5]\n",
    "df1.head()"
   ]
  },
  {
   "cell_type": "markdown",
   "id": "15397749",
   "metadata": {},
   "source": [
    "### <font color = blue> 2 Dataframe Slicing with loc and iloc\n",
    "    \n",
    "    df.loc[] : can take parameter as string as well as numeric\n",
    "    df.iloc[]: can take only numeric parameters"
   ]
  },
  {
   "cell_type": "code",
   "execution_count": 83,
   "id": "073ee589",
   "metadata": {},
   "outputs": [],
   "source": [
    "#df_iris.loc[:,['SepalLengthCm','SepalWidthCm','Species']]  # All the rows and selected columns"
   ]
  },
  {
   "cell_type": "code",
   "execution_count": 85,
   "id": "26e6e1cb",
   "metadata": {},
   "outputs": [],
   "source": [
    "#df_iris.loc[10:50,['SepalLengthCm','SepalWidthCm','Species']]  # selected rows and selected columns"
   ]
  },
  {
   "cell_type": "code",
   "execution_count": 87,
   "id": "747bb7b3",
   "metadata": {},
   "outputs": [],
   "source": [
    "#df_iris.iloc[:,:]  # All the rows and all the columns"
   ]
  },
  {
   "cell_type": "code",
   "execution_count": 89,
   "id": "ab4e3ba7",
   "metadata": {},
   "outputs": [],
   "source": [
    "#df_iris.iloc[:,3:5]  # All the rows and selected the columns"
   ]
  },
  {
   "cell_type": "code",
   "execution_count": 92,
   "id": "97401fe8",
   "metadata": {},
   "outputs": [],
   "source": [
    "#df_iris.iloc[10:20,:]  # selected rows and all the columns"
   ]
  },
  {
   "cell_type": "code",
   "execution_count": 95,
   "id": "8ec23d88",
   "metadata": {},
   "outputs": [
    {
     "data": {
      "text/html": [
       "<div>\n",
       "<style scoped>\n",
       "    .dataframe tbody tr th:only-of-type {\n",
       "        vertical-align: middle;\n",
       "    }\n",
       "\n",
       "    .dataframe tbody tr th {\n",
       "        vertical-align: top;\n",
       "    }\n",
       "\n",
       "    .dataframe thead th {\n",
       "        text-align: right;\n",
       "    }\n",
       "</style>\n",
       "<table border=\"1\" class=\"dataframe\">\n",
       "  <thead>\n",
       "    <tr style=\"text-align: right;\">\n",
       "      <th></th>\n",
       "      <th>Id</th>\n",
       "      <th>SepalLengthCm</th>\n",
       "      <th>SepalWidthCm</th>\n",
       "      <th>PetalLengthCm</th>\n",
       "      <th>PetalWidthCm</th>\n",
       "      <th>Species</th>\n",
       "    </tr>\n",
       "  </thead>\n",
       "  <tbody>\n",
       "    <tr>\n",
       "      <th>0</th>\n",
       "      <td>1</td>\n",
       "      <td>5.1</td>\n",
       "      <td>3.5</td>\n",
       "      <td>1.4</td>\n",
       "      <td>0.2</td>\n",
       "      <td>Iris-setosa</td>\n",
       "    </tr>\n",
       "    <tr>\n",
       "      <th>1</th>\n",
       "      <td>2</td>\n",
       "      <td>4.9</td>\n",
       "      <td>3.0</td>\n",
       "      <td>1.4</td>\n",
       "      <td>0.2</td>\n",
       "      <td>Iris-setosa</td>\n",
       "    </tr>\n",
       "    <tr>\n",
       "      <th>2</th>\n",
       "      <td>3</td>\n",
       "      <td>4.7</td>\n",
       "      <td>3.2</td>\n",
       "      <td>1.3</td>\n",
       "      <td>0.2</td>\n",
       "      <td>Iris-setosa</td>\n",
       "    </tr>\n",
       "    <tr>\n",
       "      <th>3</th>\n",
       "      <td>4</td>\n",
       "      <td>4.6</td>\n",
       "      <td>3.1</td>\n",
       "      <td>1.5</td>\n",
       "      <td>0.2</td>\n",
       "      <td>Iris-setosa</td>\n",
       "    </tr>\n",
       "    <tr>\n",
       "      <th>4</th>\n",
       "      <td>5</td>\n",
       "      <td>5.0</td>\n",
       "      <td>3.6</td>\n",
       "      <td>1.4</td>\n",
       "      <td>0.2</td>\n",
       "      <td>Iris-setosa</td>\n",
       "    </tr>\n",
       "  </tbody>\n",
       "</table>\n",
       "</div>"
      ],
      "text/plain": [
       "   Id  SepalLengthCm  SepalWidthCm  PetalLengthCm  PetalWidthCm      Species\n",
       "0   1            5.1           3.5            1.4           0.2  Iris-setosa\n",
       "1   2            4.9           3.0            1.4           0.2  Iris-setosa\n",
       "2   3            4.7           3.2            1.3           0.2  Iris-setosa\n",
       "3   4            4.6           3.1            1.5           0.2  Iris-setosa\n",
       "4   5            5.0           3.6            1.4           0.2  Iris-setosa"
      ]
     },
     "execution_count": 95,
     "metadata": {},
     "output_type": "execute_result"
    }
   ],
   "source": [
    "# conditional splitting with loc\n",
    "df_iris.loc[df_iris['Species']=='Iris-setosa'].head(5)  # All the rows and columns where species == Iris-Setosa"
   ]
  },
  {
   "cell_type": "code",
   "execution_count": 96,
   "id": "1bf9b88a",
   "metadata": {},
   "outputs": [
    {
     "data": {
      "text/html": [
       "<div>\n",
       "<style scoped>\n",
       "    .dataframe tbody tr th:only-of-type {\n",
       "        vertical-align: middle;\n",
       "    }\n",
       "\n",
       "    .dataframe tbody tr th {\n",
       "        vertical-align: top;\n",
       "    }\n",
       "\n",
       "    .dataframe thead th {\n",
       "        text-align: right;\n",
       "    }\n",
       "</style>\n",
       "<table border=\"1\" class=\"dataframe\">\n",
       "  <thead>\n",
       "    <tr style=\"text-align: right;\">\n",
       "      <th></th>\n",
       "      <th>Id</th>\n",
       "      <th>SepalLengthCm</th>\n",
       "      <th>SepalWidthCm</th>\n",
       "      <th>PetalLengthCm</th>\n",
       "      <th>PetalWidthCm</th>\n",
       "      <th>Species</th>\n",
       "    </tr>\n",
       "  </thead>\n",
       "  <tbody>\n",
       "    <tr>\n",
       "      <th>5</th>\n",
       "      <td>6</td>\n",
       "      <td>5.4</td>\n",
       "      <td>3.9</td>\n",
       "      <td>1.7</td>\n",
       "      <td>0.4</td>\n",
       "      <td>Iris-setosa</td>\n",
       "    </tr>\n",
       "    <tr>\n",
       "      <th>10</th>\n",
       "      <td>11</td>\n",
       "      <td>5.4</td>\n",
       "      <td>3.7</td>\n",
       "      <td>1.5</td>\n",
       "      <td>0.2</td>\n",
       "      <td>Iris-setosa</td>\n",
       "    </tr>\n",
       "    <tr>\n",
       "      <th>14</th>\n",
       "      <td>15</td>\n",
       "      <td>5.8</td>\n",
       "      <td>4.0</td>\n",
       "      <td>1.2</td>\n",
       "      <td>0.2</td>\n",
       "      <td>Iris-setosa</td>\n",
       "    </tr>\n",
       "    <tr>\n",
       "      <th>15</th>\n",
       "      <td>16</td>\n",
       "      <td>5.7</td>\n",
       "      <td>4.4</td>\n",
       "      <td>1.5</td>\n",
       "      <td>0.4</td>\n",
       "      <td>Iris-setosa</td>\n",
       "    </tr>\n",
       "    <tr>\n",
       "      <th>16</th>\n",
       "      <td>17</td>\n",
       "      <td>5.4</td>\n",
       "      <td>3.9</td>\n",
       "      <td>1.3</td>\n",
       "      <td>0.4</td>\n",
       "      <td>Iris-setosa</td>\n",
       "    </tr>\n",
       "  </tbody>\n",
       "</table>\n",
       "</div>"
      ],
      "text/plain": [
       "    Id  SepalLengthCm  SepalWidthCm  PetalLengthCm  PetalWidthCm      Species\n",
       "5    6            5.4           3.9            1.7           0.4  Iris-setosa\n",
       "10  11            5.4           3.7            1.5           0.2  Iris-setosa\n",
       "14  15            5.8           4.0            1.2           0.2  Iris-setosa\n",
       "15  16            5.7           4.4            1.5           0.4  Iris-setosa\n",
       "16  17            5.4           3.9            1.3           0.4  Iris-setosa"
      ]
     },
     "execution_count": 96,
     "metadata": {},
     "output_type": "execute_result"
    }
   ],
   "source": [
    "# conditional splitting with loc\n",
    "df_iris.loc[df_iris['SepalLengthCm']>5.1].head(5)  # All the rows and columns where species == Iris-Setosa"
   ]
  },
  {
   "cell_type": "markdown",
   "id": "22c7c4d3",
   "metadata": {},
   "source": [
    "## <font color = blue> V Set & Reset Index"
   ]
  },
  {
   "cell_type": "code",
   "execution_count": 105,
   "id": "dbcadd3b",
   "metadata": {},
   "outputs": [
    {
     "data": {
      "text/html": [
       "<div>\n",
       "<style scoped>\n",
       "    .dataframe tbody tr th:only-of-type {\n",
       "        vertical-align: middle;\n",
       "    }\n",
       "\n",
       "    .dataframe tbody tr th {\n",
       "        vertical-align: top;\n",
       "    }\n",
       "\n",
       "    .dataframe thead th {\n",
       "        text-align: right;\n",
       "    }\n",
       "</style>\n",
       "<table border=\"1\" class=\"dataframe\">\n",
       "  <thead>\n",
       "    <tr style=\"text-align: right;\">\n",
       "      <th></th>\n",
       "      <th>Name</th>\n",
       "      <th>Age</th>\n",
       "      <th>City</th>\n",
       "      <th>Country</th>\n",
       "    </tr>\n",
       "    <tr>\n",
       "      <th>Agg_Marks</th>\n",
       "      <th></th>\n",
       "      <th></th>\n",
       "      <th></th>\n",
       "      <th></th>\n",
       "    </tr>\n",
       "  </thead>\n",
       "  <tbody>\n",
       "    <tr>\n",
       "      <th>85.96</th>\n",
       "      <td>jack</td>\n",
       "      <td>34</td>\n",
       "      <td>Sydeny</td>\n",
       "      <td>Australia</td>\n",
       "    </tr>\n",
       "    <tr>\n",
       "      <th>95.20</th>\n",
       "      <td>Riti</td>\n",
       "      <td>30</td>\n",
       "      <td>Delhi</td>\n",
       "      <td>India</td>\n",
       "    </tr>\n",
       "    <tr>\n",
       "      <th>85.25</th>\n",
       "      <td>Vansh</td>\n",
       "      <td>31</td>\n",
       "      <td>Delhi</td>\n",
       "      <td>India</td>\n",
       "    </tr>\n",
       "    <tr>\n",
       "      <th>74.21</th>\n",
       "      <td>Nanyu</td>\n",
       "      <td>32</td>\n",
       "      <td>Tokyo</td>\n",
       "      <td>Japan</td>\n",
       "    </tr>\n",
       "    <tr>\n",
       "      <th>99.63</th>\n",
       "      <td>Maychan</td>\n",
       "      <td>16</td>\n",
       "      <td>New York</td>\n",
       "      <td>US</td>\n",
       "    </tr>\n",
       "    <tr>\n",
       "      <th>47.28</th>\n",
       "      <td>Mike</td>\n",
       "      <td>17</td>\n",
       "      <td>las vegas</td>\n",
       "      <td>US</td>\n",
       "    </tr>\n",
       "  </tbody>\n",
       "</table>\n",
       "</div>"
      ],
      "text/plain": [
       "              Name  Age       City    Country\n",
       "Agg_Marks                                    \n",
       "85.96         jack   34     Sydeny  Australia\n",
       "95.20         Riti   30      Delhi      India\n",
       "85.25        Vansh   31      Delhi      India\n",
       "74.21        Nanyu   32      Tokyo      Japan\n",
       "99.63      Maychan   16   New York         US\n",
       "47.28         Mike   17  las vegas         US"
      ]
     },
     "execution_count": 105,
     "metadata": {},
     "output_type": "execute_result"
    }
   ],
   "source": [
    "# Setting Index\n",
    "students = [['jack', 34, 'Sydeny', 'Australia',85.96],\n",
    "            ['Riti', 30, 'Delhi', 'India',95.20],\n",
    "            ['Vansh', 31, 'Delhi', 'India',85.25],\n",
    "            ['Nanyu', 32, 'Tokyo', 'Japan',74.21],\n",
    "            ['Maychan', 16, 'New York', 'US',99.63],\n",
    "            ['Mike', 17, 'las vegas', 'US',47.28]]\n",
    "\n",
    "# Create a DataFrame object\n",
    "df = pd.DataFrame(students,columns=['Name', 'Age', 'City', 'Country','Agg_Marks'],index=['a', 'b', 'c', 'd', 'e', 'f'])\n",
    "\n",
    "df = df.set_index('Agg_Marks')\n",
    "\n",
    "df"
   ]
  },
  {
   "cell_type": "code",
   "execution_count": 108,
   "id": "53cf738b",
   "metadata": {},
   "outputs": [
    {
     "data": {
      "text/html": [
       "<div>\n",
       "<style scoped>\n",
       "    .dataframe tbody tr th:only-of-type {\n",
       "        vertical-align: middle;\n",
       "    }\n",
       "\n",
       "    .dataframe tbody tr th {\n",
       "        vertical-align: top;\n",
       "    }\n",
       "\n",
       "    .dataframe thead th {\n",
       "        text-align: right;\n",
       "    }\n",
       "</style>\n",
       "<table border=\"1\" class=\"dataframe\">\n",
       "  <thead>\n",
       "    <tr style=\"text-align: right;\">\n",
       "      <th></th>\n",
       "      <th>Name</th>\n",
       "      <th>Age</th>\n",
       "      <th>City</th>\n",
       "      <th>Country</th>\n",
       "    </tr>\n",
       "  </thead>\n",
       "  <tbody>\n",
       "    <tr>\n",
       "      <th>0</th>\n",
       "      <td>jack</td>\n",
       "      <td>34</td>\n",
       "      <td>Sydeny</td>\n",
       "      <td>Australia</td>\n",
       "    </tr>\n",
       "    <tr>\n",
       "      <th>1</th>\n",
       "      <td>Riti</td>\n",
       "      <td>30</td>\n",
       "      <td>Delhi</td>\n",
       "      <td>India</td>\n",
       "    </tr>\n",
       "    <tr>\n",
       "      <th>2</th>\n",
       "      <td>Vansh</td>\n",
       "      <td>31</td>\n",
       "      <td>Delhi</td>\n",
       "      <td>India</td>\n",
       "    </tr>\n",
       "    <tr>\n",
       "      <th>3</th>\n",
       "      <td>Nanyu</td>\n",
       "      <td>32</td>\n",
       "      <td>Tokyo</td>\n",
       "      <td>Japan</td>\n",
       "    </tr>\n",
       "    <tr>\n",
       "      <th>4</th>\n",
       "      <td>Maychan</td>\n",
       "      <td>16</td>\n",
       "      <td>New York</td>\n",
       "      <td>US</td>\n",
       "    </tr>\n",
       "    <tr>\n",
       "      <th>5</th>\n",
       "      <td>Mike</td>\n",
       "      <td>17</td>\n",
       "      <td>las vegas</td>\n",
       "      <td>US</td>\n",
       "    </tr>\n",
       "  </tbody>\n",
       "</table>\n",
       "</div>"
      ],
      "text/plain": [
       "      Name  Age       City    Country\n",
       "0     jack   34     Sydeny  Australia\n",
       "1     Riti   30      Delhi      India\n",
       "2    Vansh   31      Delhi      India\n",
       "3    Nanyu   32      Tokyo      Japan\n",
       "4  Maychan   16   New York         US\n",
       "5     Mike   17  las vegas         US"
      ]
     },
     "execution_count": 108,
     "metadata": {},
     "output_type": "execute_result"
    }
   ],
   "source": [
    "# Reset Index\n",
    "df.reset_index(drop=True)"
   ]
  },
  {
   "cell_type": "markdown",
   "id": "171ed8e0",
   "metadata": {},
   "source": [
    "## <font color = blue> VI Transpose DataFrame"
   ]
  },
  {
   "cell_type": "code",
   "execution_count": 110,
   "id": "9e7984c8",
   "metadata": {},
   "outputs": [
    {
     "data": {
      "text/html": [
       "<div>\n",
       "<style scoped>\n",
       "    .dataframe tbody tr th:only-of-type {\n",
       "        vertical-align: middle;\n",
       "    }\n",
       "\n",
       "    .dataframe tbody tr th {\n",
       "        vertical-align: top;\n",
       "    }\n",
       "\n",
       "    .dataframe thead th {\n",
       "        text-align: right;\n",
       "    }\n",
       "</style>\n",
       "<table border=\"1\" class=\"dataframe\">\n",
       "  <thead>\n",
       "    <tr style=\"text-align: right;\">\n",
       "      <th>Agg_Marks</th>\n",
       "      <th>85.96</th>\n",
       "      <th>95.20</th>\n",
       "      <th>85.25</th>\n",
       "      <th>74.21</th>\n",
       "      <th>99.63</th>\n",
       "      <th>47.28</th>\n",
       "    </tr>\n",
       "  </thead>\n",
       "  <tbody>\n",
       "    <tr>\n",
       "      <th>Name</th>\n",
       "      <td>jack</td>\n",
       "      <td>Riti</td>\n",
       "      <td>Vansh</td>\n",
       "      <td>Nanyu</td>\n",
       "      <td>Maychan</td>\n",
       "      <td>Mike</td>\n",
       "    </tr>\n",
       "    <tr>\n",
       "      <th>Age</th>\n",
       "      <td>34</td>\n",
       "      <td>30</td>\n",
       "      <td>31</td>\n",
       "      <td>32</td>\n",
       "      <td>16</td>\n",
       "      <td>17</td>\n",
       "    </tr>\n",
       "    <tr>\n",
       "      <th>City</th>\n",
       "      <td>Sydeny</td>\n",
       "      <td>Delhi</td>\n",
       "      <td>Delhi</td>\n",
       "      <td>Tokyo</td>\n",
       "      <td>New York</td>\n",
       "      <td>las vegas</td>\n",
       "    </tr>\n",
       "    <tr>\n",
       "      <th>Country</th>\n",
       "      <td>Australia</td>\n",
       "      <td>India</td>\n",
       "      <td>India</td>\n",
       "      <td>Japan</td>\n",
       "      <td>US</td>\n",
       "      <td>US</td>\n",
       "    </tr>\n",
       "  </tbody>\n",
       "</table>\n",
       "</div>"
      ],
      "text/plain": [
       "Agg_Marks      85.96  95.20  85.25  74.21     99.63      47.28\n",
       "Name            jack   Riti  Vansh  Nanyu   Maychan       Mike\n",
       "Age               34     30     31     32        16         17\n",
       "City          Sydeny  Delhi  Delhi  Tokyo  New York  las vegas\n",
       "Country    Australia  India  India  Japan        US         US"
      ]
     },
     "execution_count": 110,
     "metadata": {},
     "output_type": "execute_result"
    }
   ],
   "source": [
    "# Transpose\n",
    "df.T"
   ]
  },
  {
   "cell_type": "markdown",
   "id": "b068d0f1",
   "metadata": {},
   "source": [
    "## <font color = blue> VII Sort DataFrame"
   ]
  },
  {
   "cell_type": "code",
   "execution_count": 117,
   "id": "5d92317b",
   "metadata": {
    "scrolled": true
   },
   "outputs": [
    {
     "data": {
      "text/html": [
       "<div>\n",
       "<style scoped>\n",
       "    .dataframe tbody tr th:only-of-type {\n",
       "        vertical-align: middle;\n",
       "    }\n",
       "\n",
       "    .dataframe tbody tr th {\n",
       "        vertical-align: top;\n",
       "    }\n",
       "\n",
       "    .dataframe thead th {\n",
       "        text-align: right;\n",
       "    }\n",
       "</style>\n",
       "<table border=\"1\" class=\"dataframe\">\n",
       "  <thead>\n",
       "    <tr style=\"text-align: right;\">\n",
       "      <th></th>\n",
       "      <th>Name</th>\n",
       "      <th>Age</th>\n",
       "      <th>City</th>\n",
       "      <th>Country</th>\n",
       "    </tr>\n",
       "  </thead>\n",
       "  <tbody>\n",
       "    <tr>\n",
       "      <th>0</th>\n",
       "      <td>jack</td>\n",
       "      <td>34</td>\n",
       "      <td>Sydeny</td>\n",
       "      <td>Australia</td>\n",
       "    </tr>\n",
       "    <tr>\n",
       "      <th>1</th>\n",
       "      <td>Riti</td>\n",
       "      <td>30</td>\n",
       "      <td>Delhi</td>\n",
       "      <td>India</td>\n",
       "    </tr>\n",
       "    <tr>\n",
       "      <th>2</th>\n",
       "      <td>Vansh</td>\n",
       "      <td>31</td>\n",
       "      <td>Delhi</td>\n",
       "      <td>India</td>\n",
       "    </tr>\n",
       "    <tr>\n",
       "      <th>3</th>\n",
       "      <td>Nanyu</td>\n",
       "      <td>32</td>\n",
       "      <td>Tokyo</td>\n",
       "      <td>Japan</td>\n",
       "    </tr>\n",
       "    <tr>\n",
       "      <th>4</th>\n",
       "      <td>Maychan</td>\n",
       "      <td>16</td>\n",
       "      <td>New York</td>\n",
       "      <td>US</td>\n",
       "    </tr>\n",
       "    <tr>\n",
       "      <th>5</th>\n",
       "      <td>Mike</td>\n",
       "      <td>17</td>\n",
       "      <td>las vegas</td>\n",
       "      <td>US</td>\n",
       "    </tr>\n",
       "  </tbody>\n",
       "</table>\n",
       "</div>"
      ],
      "text/plain": [
       "      Name  Age       City    Country\n",
       "0     jack   34     Sydeny  Australia\n",
       "1     Riti   30      Delhi      India\n",
       "2    Vansh   31      Delhi      India\n",
       "3    Nanyu   32      Tokyo      Japan\n",
       "4  Maychan   16   New York         US\n",
       "5     Mike   17  las vegas         US"
      ]
     },
     "execution_count": 117,
     "metadata": {},
     "output_type": "execute_result"
    }
   ],
   "source": [
    "df = df.reset_index(drop=True)\n",
    "df\n",
    "\n",
    "# sort by index\n",
    "df.sort_index(axis=0, inplace=True)\n",
    "df"
   ]
  },
  {
   "cell_type": "code",
   "execution_count": 118,
   "id": "2fd2ec61",
   "metadata": {},
   "outputs": [
    {
     "data": {
      "text/html": [
       "<div>\n",
       "<style scoped>\n",
       "    .dataframe tbody tr th:only-of-type {\n",
       "        vertical-align: middle;\n",
       "    }\n",
       "\n",
       "    .dataframe tbody tr th {\n",
       "        vertical-align: top;\n",
       "    }\n",
       "\n",
       "    .dataframe thead th {\n",
       "        text-align: right;\n",
       "    }\n",
       "</style>\n",
       "<table border=\"1\" class=\"dataframe\">\n",
       "  <thead>\n",
       "    <tr style=\"text-align: right;\">\n",
       "      <th></th>\n",
       "      <th>Name</th>\n",
       "      <th>Age</th>\n",
       "      <th>City</th>\n",
       "      <th>Country</th>\n",
       "    </tr>\n",
       "  </thead>\n",
       "  <tbody>\n",
       "    <tr>\n",
       "      <th>0</th>\n",
       "      <td>jack</td>\n",
       "      <td>34</td>\n",
       "      <td>Sydeny</td>\n",
       "      <td>Australia</td>\n",
       "    </tr>\n",
       "    <tr>\n",
       "      <th>1</th>\n",
       "      <td>Riti</td>\n",
       "      <td>30</td>\n",
       "      <td>Delhi</td>\n",
       "      <td>India</td>\n",
       "    </tr>\n",
       "    <tr>\n",
       "      <th>2</th>\n",
       "      <td>Vansh</td>\n",
       "      <td>31</td>\n",
       "      <td>Delhi</td>\n",
       "      <td>India</td>\n",
       "    </tr>\n",
       "    <tr>\n",
       "      <th>3</th>\n",
       "      <td>Nanyu</td>\n",
       "      <td>32</td>\n",
       "      <td>Tokyo</td>\n",
       "      <td>Japan</td>\n",
       "    </tr>\n",
       "    <tr>\n",
       "      <th>4</th>\n",
       "      <td>Maychan</td>\n",
       "      <td>16</td>\n",
       "      <td>New York</td>\n",
       "      <td>US</td>\n",
       "    </tr>\n",
       "    <tr>\n",
       "      <th>5</th>\n",
       "      <td>Mike</td>\n",
       "      <td>17</td>\n",
       "      <td>las vegas</td>\n",
       "      <td>US</td>\n",
       "    </tr>\n",
       "  </tbody>\n",
       "</table>\n",
       "</div>"
      ],
      "text/plain": [
       "      Name  Age       City    Country\n",
       "0     jack   34     Sydeny  Australia\n",
       "1     Riti   30      Delhi      India\n",
       "2    Vansh   31      Delhi      India\n",
       "3    Nanyu   32      Tokyo      Japan\n",
       "4  Maychan   16   New York         US\n",
       "5     Mike   17  las vegas         US"
      ]
     },
     "execution_count": 118,
     "metadata": {},
     "output_type": "execute_result"
    }
   ],
   "source": [
    "# sort by values\n",
    "df.sort_values('City')\n",
    "df"
   ]
  },
  {
   "cell_type": "markdown",
   "id": "abfd8f9a",
   "metadata": {},
   "source": [
    "## <font color = blue> VIII drop row and columns"
   ]
  },
  {
   "cell_type": "code",
   "execution_count": 121,
   "id": "c0feb351",
   "metadata": {},
   "outputs": [
    {
     "data": {
      "text/html": [
       "<div>\n",
       "<style scoped>\n",
       "    .dataframe tbody tr th:only-of-type {\n",
       "        vertical-align: middle;\n",
       "    }\n",
       "\n",
       "    .dataframe tbody tr th {\n",
       "        vertical-align: top;\n",
       "    }\n",
       "\n",
       "    .dataframe thead th {\n",
       "        text-align: right;\n",
       "    }\n",
       "</style>\n",
       "<table border=\"1\" class=\"dataframe\">\n",
       "  <thead>\n",
       "    <tr style=\"text-align: right;\">\n",
       "      <th></th>\n",
       "      <th>Emp ID</th>\n",
       "      <th>First Name</th>\n",
       "      <th>Age in Yrs</th>\n",
       "      <th>Weight in Kgs</th>\n",
       "      <th>Age in Company</th>\n",
       "      <th>Salary</th>\n",
       "      <th>City</th>\n",
       "    </tr>\n",
       "  </thead>\n",
       "  <tbody>\n",
       "    <tr>\n",
       "      <th>0</th>\n",
       "      <td>677509</td>\n",
       "      <td>Lois</td>\n",
       "      <td>36.36</td>\n",
       "      <td>NaN</td>\n",
       "      <td>13.68</td>\n",
       "      <td>168251</td>\n",
       "      <td>NaN</td>\n",
       "    </tr>\n",
       "    <tr>\n",
       "      <th>1</th>\n",
       "      <td>940761</td>\n",
       "      <td>Brenda</td>\n",
       "      <td>47.02</td>\n",
       "      <td>NaN</td>\n",
       "      <td>NaN</td>\n",
       "      <td>51063</td>\n",
       "      <td>Stonewall</td>\n",
       "    </tr>\n",
       "    <tr>\n",
       "      <th>2</th>\n",
       "      <td>428945</td>\n",
       "      <td>Joe</td>\n",
       "      <td>54.15</td>\n",
       "      <td>68.0</td>\n",
       "      <td>0.98</td>\n",
       "      <td>50155</td>\n",
       "      <td>Michigantown</td>\n",
       "    </tr>\n",
       "    <tr>\n",
       "      <th>3</th>\n",
       "      <td>408351</td>\n",
       "      <td>Diane</td>\n",
       "      <td>39.67</td>\n",
       "      <td>NaN</td>\n",
       "      <td>18.30</td>\n",
       "      <td>180294</td>\n",
       "      <td>Hydetown</td>\n",
       "    </tr>\n",
       "    <tr>\n",
       "      <th>4</th>\n",
       "      <td>193819</td>\n",
       "      <td>Benjamin</td>\n",
       "      <td>40.31</td>\n",
       "      <td>58.0</td>\n",
       "      <td>4.01</td>\n",
       "      <td>117642</td>\n",
       "      <td>Fremont</td>\n",
       "    </tr>\n",
       "  </tbody>\n",
       "</table>\n",
       "</div>"
      ],
      "text/plain": [
       "   Emp ID First Name  Age in Yrs  Weight in Kgs  Age in Company  Salary  \\\n",
       "0  677509       Lois       36.36            NaN           13.68  168251   \n",
       "1  940761     Brenda       47.02            NaN             NaN   51063   \n",
       "2  428945        Joe       54.15           68.0            0.98   50155   \n",
       "3  408351      Diane       39.67            NaN           18.30  180294   \n",
       "4  193819   Benjamin       40.31           58.0            4.01  117642   \n",
       "\n",
       "           City  \n",
       "0           NaN  \n",
       "1     Stonewall  \n",
       "2  Michigantown  \n",
       "3      Hydetown  \n",
       "4       Fremont  "
      ]
     },
     "execution_count": 121,
     "metadata": {},
     "output_type": "execute_result"
    }
   ],
   "source": [
    "# Dataframe creation\n",
    "df_emp = pd.read_csv('Emp_Records.csv')\n",
    "emp = df_emp.copy()\n",
    "emp.head()"
   ]
  },
  {
   "cell_type": "code",
   "execution_count": 138,
   "id": "9e2e5990",
   "metadata": {},
   "outputs": [
    {
     "data": {
      "text/html": [
       "<div>\n",
       "<style scoped>\n",
       "    .dataframe tbody tr th:only-of-type {\n",
       "        vertical-align: middle;\n",
       "    }\n",
       "\n",
       "    .dataframe tbody tr th {\n",
       "        vertical-align: top;\n",
       "    }\n",
       "\n",
       "    .dataframe thead th {\n",
       "        text-align: right;\n",
       "    }\n",
       "</style>\n",
       "<table border=\"1\" class=\"dataframe\">\n",
       "  <thead>\n",
       "    <tr style=\"text-align: right;\">\n",
       "      <th></th>\n",
       "      <th>Age in Yrs</th>\n",
       "      <th>Weight in Kgs</th>\n",
       "      <th>Age in Company</th>\n",
       "      <th>Salary</th>\n",
       "      <th>City</th>\n",
       "    </tr>\n",
       "  </thead>\n",
       "  <tbody>\n",
       "    <tr>\n",
       "      <th>0</th>\n",
       "      <td>36.36</td>\n",
       "      <td>NaN</td>\n",
       "      <td>13.68</td>\n",
       "      <td>168251</td>\n",
       "      <td>NaN</td>\n",
       "    </tr>\n",
       "    <tr>\n",
       "      <th>1</th>\n",
       "      <td>47.02</td>\n",
       "      <td>NaN</td>\n",
       "      <td>NaN</td>\n",
       "      <td>51063</td>\n",
       "      <td>Stonewall</td>\n",
       "    </tr>\n",
       "    <tr>\n",
       "      <th>2</th>\n",
       "      <td>54.15</td>\n",
       "      <td>68.0</td>\n",
       "      <td>0.98</td>\n",
       "      <td>50155</td>\n",
       "      <td>Michigantown</td>\n",
       "    </tr>\n",
       "    <tr>\n",
       "      <th>3</th>\n",
       "      <td>39.67</td>\n",
       "      <td>NaN</td>\n",
       "      <td>18.30</td>\n",
       "      <td>180294</td>\n",
       "      <td>Hydetown</td>\n",
       "    </tr>\n",
       "    <tr>\n",
       "      <th>4</th>\n",
       "      <td>40.31</td>\n",
       "      <td>58.0</td>\n",
       "      <td>4.01</td>\n",
       "      <td>117642</td>\n",
       "      <td>Fremont</td>\n",
       "    </tr>\n",
       "  </tbody>\n",
       "</table>\n",
       "</div>"
      ],
      "text/plain": [
       "   Age in Yrs  Weight in Kgs  Age in Company  Salary          City\n",
       "0       36.36            NaN           13.68  168251           NaN\n",
       "1       47.02            NaN             NaN   51063     Stonewall\n",
       "2       54.15           68.0            0.98   50155  Michigantown\n",
       "3       39.67            NaN           18.30  180294      Hydetown\n",
       "4       40.31           58.0            4.01  117642       Fremont"
      ]
     },
     "execution_count": 138,
     "metadata": {},
     "output_type": "execute_result"
    }
   ],
   "source": [
    "df1 = emp.drop(['Emp ID', 'First Name'], axis = 1)  # dropping the selected columns\n",
    "df1.head()"
   ]
  },
  {
   "cell_type": "code",
   "execution_count": 137,
   "id": "09cb52f1",
   "metadata": {},
   "outputs": [
    {
     "data": {
      "text/html": [
       "<div>\n",
       "<style scoped>\n",
       "    .dataframe tbody tr th:only-of-type {\n",
       "        vertical-align: middle;\n",
       "    }\n",
       "\n",
       "    .dataframe tbody tr th {\n",
       "        vertical-align: top;\n",
       "    }\n",
       "\n",
       "    .dataframe thead th {\n",
       "        text-align: right;\n",
       "    }\n",
       "</style>\n",
       "<table border=\"1\" class=\"dataframe\">\n",
       "  <thead>\n",
       "    <tr style=\"text-align: right;\">\n",
       "      <th></th>\n",
       "      <th>Emp ID</th>\n",
       "      <th>First Name</th>\n",
       "      <th>Age in Yrs</th>\n",
       "      <th>Weight in Kgs</th>\n",
       "      <th>Age in Company</th>\n",
       "      <th>Salary</th>\n",
       "      <th>City</th>\n",
       "    </tr>\n",
       "  </thead>\n",
       "  <tbody>\n",
       "    <tr>\n",
       "      <th>5</th>\n",
       "      <td>499687</td>\n",
       "      <td>Patrick</td>\n",
       "      <td>34.86</td>\n",
       "      <td>58.0</td>\n",
       "      <td>12.02</td>\n",
       "      <td>72305</td>\n",
       "      <td>Macksburg</td>\n",
       "    </tr>\n",
       "    <tr>\n",
       "      <th>6</th>\n",
       "      <td>539712</td>\n",
       "      <td>Nancy</td>\n",
       "      <td>22.14</td>\n",
       "      <td>50.0</td>\n",
       "      <td>0.87</td>\n",
       "      <td>98189</td>\n",
       "      <td>Atlanta</td>\n",
       "    </tr>\n",
       "    <tr>\n",
       "      <th>7</th>\n",
       "      <td>380086</td>\n",
       "      <td>Carol</td>\n",
       "      <td>59.12</td>\n",
       "      <td>40.0</td>\n",
       "      <td>34.52</td>\n",
       "      <td>60918</td>\n",
       "      <td>Blanchester</td>\n",
       "    </tr>\n",
       "    <tr>\n",
       "      <th>8</th>\n",
       "      <td>477616</td>\n",
       "      <td>Frances</td>\n",
       "      <td>58.18</td>\n",
       "      <td>42.0</td>\n",
       "      <td>23.27</td>\n",
       "      <td>121587</td>\n",
       "      <td>Delmita</td>\n",
       "    </tr>\n",
       "    <tr>\n",
       "      <th>9</th>\n",
       "      <td>162402</td>\n",
       "      <td>Diana</td>\n",
       "      <td>29.73</td>\n",
       "      <td>60.0</td>\n",
       "      <td>3.44</td>\n",
       "      <td>43010</td>\n",
       "      <td>Eureka Springs</td>\n",
       "    </tr>\n",
       "  </tbody>\n",
       "</table>\n",
       "</div>"
      ],
      "text/plain": [
       "   Emp ID First Name  Age in Yrs  Weight in Kgs  Age in Company  Salary  \\\n",
       "5  499687    Patrick       34.86           58.0           12.02   72305   \n",
       "6  539712      Nancy       22.14           50.0            0.87   98189   \n",
       "7  380086      Carol       59.12           40.0           34.52   60918   \n",
       "8  477616    Frances       58.18           42.0           23.27  121587   \n",
       "9  162402      Diana       29.73           60.0            3.44   43010   \n",
       "\n",
       "             City  \n",
       "5       Macksburg  \n",
       "6         Atlanta  \n",
       "7     Blanchester  \n",
       "8         Delmita  \n",
       "9  Eureka Springs  "
      ]
     },
     "execution_count": 137,
     "metadata": {},
     "output_type": "execute_result"
    }
   ],
   "source": [
    "# Delecting selected rows\n",
    "df2 = emp.drop([0,1,2,3,4], axis = 0)\n",
    "df2.head()"
   ]
  },
  {
   "cell_type": "code",
   "execution_count": 146,
   "id": "5d2cf373",
   "metadata": {},
   "outputs": [
    {
     "data": {
      "text/html": [
       "<div>\n",
       "<style scoped>\n",
       "    .dataframe tbody tr th:only-of-type {\n",
       "        vertical-align: middle;\n",
       "    }\n",
       "\n",
       "    .dataframe tbody tr th {\n",
       "        vertical-align: top;\n",
       "    }\n",
       "\n",
       "    .dataframe thead th {\n",
       "        text-align: right;\n",
       "    }\n",
       "</style>\n",
       "<table border=\"1\" class=\"dataframe\">\n",
       "  <thead>\n",
       "    <tr style=\"text-align: right;\">\n",
       "      <th></th>\n",
       "      <th>Emp ID</th>\n",
       "      <th>First Name</th>\n",
       "      <th>Age in Yrs</th>\n",
       "      <th>Weight in Kgs</th>\n",
       "      <th>Age in Company</th>\n",
       "      <th>Salary</th>\n",
       "      <th>City</th>\n",
       "    </tr>\n",
       "  </thead>\n",
       "  <tbody>\n",
       "    <tr>\n",
       "      <th>5</th>\n",
       "      <td>499687</td>\n",
       "      <td>Patrick</td>\n",
       "      <td>34.86</td>\n",
       "      <td>58.0</td>\n",
       "      <td>12.02</td>\n",
       "      <td>72305</td>\n",
       "      <td>Macksburg</td>\n",
       "    </tr>\n",
       "  </tbody>\n",
       "</table>\n",
       "</div>"
      ],
      "text/plain": [
       "   Emp ID First Name  Age in Yrs  Weight in Kgs  Age in Company  Salary  \\\n",
       "5  499687    Patrick       34.86           58.0           12.02   72305   \n",
       "\n",
       "        City  \n",
       "5  Macksburg  "
      ]
     },
     "execution_count": 146,
     "metadata": {},
     "output_type": "execute_result"
    }
   ],
   "source": [
    "df2.loc[df2['City']=='Macksburg']"
   ]
  },
  {
   "cell_type": "markdown",
   "id": "eedf4746",
   "metadata": {},
   "source": [
    "## <font color = blue> IX Min, Max, Sum, Mean, Mode and Median"
   ]
  },
  {
   "cell_type": "code",
   "execution_count": 163,
   "id": "f7085ff0",
   "metadata": {},
   "outputs": [
    {
     "name": "stderr",
     "output_type": "stream",
     "text": [
      "C:\\Users\\Swami\\AppData\\Local\\Temp/ipykernel_21640/17518926.py:4: FutureWarning: Dropping of nuisance columns in DataFrame reductions (with 'numeric_only=None') is deprecated; in a future version this will raise TypeError.  Select only valid columns before calling the reduction.\n",
      "  df2.mean()          # returns mean for all columns of the dataframe\n",
      "C:\\Users\\Swami\\AppData\\Local\\Temp/ipykernel_21640/17518926.py:7: FutureWarning: Dropping of nuisance columns in DataFrame reductions (with 'numeric_only=None') is deprecated; in a future version this will raise TypeError.  Select only valid columns before calling the reduction.\n",
      "  df2.median()\n"
     ]
    },
    {
     "data": {
      "text/plain": [
       "0    4.93\n",
       "dtype: float64"
      ]
     },
     "execution_count": 163,
     "metadata": {},
     "output_type": "execute_result"
    }
   ],
   "source": [
    "max(df2.Salary)\n",
    "min(df2.Salary)\n",
    "\n",
    "df2.mean()          # returns mean for all columns of the dataframe\n",
    "df2.Salary.mean()   # returns mean for selected columns of the dataframe\n",
    "\n",
    "df2.median()\n",
    "df2.Salary.median()\n",
    "\n",
    "# Mode\n",
    "\n",
    "from statistics import mode\n",
    "from scipy import stats\n",
    "\n",
    "df2['Age in Company'].mode()"
   ]
  },
  {
   "cell_type": "markdown",
   "id": "a1681935",
   "metadata": {},
   "source": [
    "## <font color = blue> X Finding  & Dropping NA in dataframe"
   ]
  },
  {
   "cell_type": "markdown",
   "id": "7b3c6bac",
   "metadata": {},
   "source": [
    "### <font color = blue> 1 Finding NA in dataframe"
   ]
  },
  {
   "cell_type": "code",
   "execution_count": 169,
   "id": "0d48fefa",
   "metadata": {},
   "outputs": [
    {
     "data": {
      "text/plain": [
       "Emp ID            0\n",
       "First Name        0\n",
       "Age in Yrs        0\n",
       "Weight in Kgs     3\n",
       "Age in Company    1\n",
       "Salary            0\n",
       "City              1\n",
       "dtype: int64"
      ]
     },
     "execution_count": 169,
     "metadata": {},
     "output_type": "execute_result"
    }
   ],
   "source": [
    "# isna()\n",
    "emp.isna()  # returns T/F for complete df\n",
    "emp.isna().sum() # returns no of na in each coumns\n",
    "\n",
    "# isnull()\n",
    "emp.isnull()  # returns T/F for complete df\n",
    "emp.isnull().sum() # returns no of na in each coumns"
   ]
  },
  {
   "cell_type": "markdown",
   "id": "789e5cc8",
   "metadata": {},
   "source": [
    "### <font color = blue> 2 Finding NA in dataframe"
   ]
  },
  {
   "cell_type": "code",
   "execution_count": 181,
   "id": "69cb3634",
   "metadata": {},
   "outputs": [],
   "source": [
    "df3 = emp"
   ]
  },
  {
   "cell_type": "code",
   "execution_count": 184,
   "id": "845ce76e",
   "metadata": {},
   "outputs": [
    {
     "data": {
      "text/plain": [
       "Emp ID            0\n",
       "First Name        0\n",
       "Age in Yrs        0\n",
       "Weight in Kgs     0\n",
       "Age in Company    0\n",
       "Salary            0\n",
       "City              0\n",
       "dtype: int64"
      ]
     },
     "execution_count": 184,
     "metadata": {},
     "output_type": "execute_result"
    }
   ],
   "source": [
    "# dropping all the na from dataframe\n",
    "df3 = df3.dropna(axis=0)\n",
    "df3.isna().sum()"
   ]
  },
  {
   "cell_type": "code",
   "execution_count": 187,
   "id": "ffbf7166",
   "metadata": {},
   "outputs": [
    {
     "data": {
      "text/plain": [
       "Emp ID            0\n",
       "First Name        0\n",
       "Age in Yrs        0\n",
       "Weight in Kgs     3\n",
       "Age in Company    1\n",
       "Salary            0\n",
       "City              1\n",
       "dtype: int64"
      ]
     },
     "execution_count": 187,
     "metadata": {},
     "output_type": "execute_result"
    }
   ],
   "source": [
    "df3 = emp\n",
    "# dropping the na from dataframe with given threshould. \n",
    "df3 = df3.dropna(axis=0,thresh=5)     #to drop vertically, there should be minimum 5 na\n",
    "df3.isna().sum()"
   ]
  },
  {
   "cell_type": "code",
   "execution_count": 188,
   "id": "35068633",
   "metadata": {},
   "outputs": [
    {
     "data": {
      "text/plain": [
       "Emp ID            0\n",
       "First Name        0\n",
       "Age in Yrs        0\n",
       "Weight in Kgs     3\n",
       "Age in Company    1\n",
       "Salary            0\n",
       "City              1\n",
       "dtype: int64"
      ]
     },
     "execution_count": 188,
     "metadata": {},
     "output_type": "execute_result"
    }
   ],
   "source": [
    "df3 = emp\n",
    "# dropping the na from dataframe with given threshould. \n",
    "df3 = df3.dropna(axis=1,thresh=5)     # #We need 5 non null values along the columns now. (axis=1)\n",
    "df3.isna().sum()"
   ]
  },
  {
   "cell_type": "markdown",
   "id": "d5752fad",
   "metadata": {},
   "source": [
    "## <font color = blue> XI Unique, nunique and value_counts- Works on rows"
   ]
  },
  {
   "cell_type": "code",
   "execution_count": 190,
   "id": "9fd69de2",
   "metadata": {},
   "outputs": [
    {
     "data": {
      "text/plain": [
       "array([nan, 'Stonewall', 'Michigantown', 'Hydetown', 'Fremont',\n",
       "       'Macksburg', 'Atlanta', 'Blanchester', 'Delmita', 'Eureka Springs',\n",
       "       'Sabetha', 'Las Vegas', 'New Matamoras', 'Maida', 'Quecreek',\n",
       "       'Beulaville', 'New Douglas', 'Toeterville', 'Primm Springs',\n",
       "       'Dutchtown', 'Shreveport', 'Heathsville', 'Middleport', 'Woodbury',\n",
       "       'Saint Cloud', 'Stockholm', 'Manning', 'Mount Vernon',\n",
       "       'Lawrenceburg', 'Mesa', 'Panacea', 'Kline', 'Bonanza', 'Liberty',\n",
       "       'Ohatchee', 'Nashville', 'Eckerty', 'Lima', 'Wright', 'Ellsworth',\n",
       "       'Conroy', 'Lake Charles', 'Kalvesta', 'Knoxville', 'Rochester',\n",
       "       'Bowling Green', 'Uniontown', 'Topeka', 'New York City', 'Banner',\n",
       "       'East Saint Louis', 'Hancock', 'Eatontown', 'Portage', 'Oneida',\n",
       "       'Bartley', 'Arlee', 'Cookeville', 'Saxe', 'Mc Calla', 'Trego',\n",
       "       'Blair', 'Riverside', 'Maxwell', 'Randallstown', 'Willow Beach',\n",
       "       'Granger', 'Alcoa', 'Baton Rouge', 'Browning', 'Hudson',\n",
       "       'Kansas City', 'Haswell', 'Eckert', 'Blue River', 'Albion', 'Bays',\n",
       "       'Nardin', 'Mary Esther', 'Wheaton', 'Margie', 'Glidden',\n",
       "       'Saranac Lake', 'Philadelphia', 'Jarreau', 'Wichita', 'Meno',\n",
       "       'Oriskany', 'Richmond Dale', 'Miami', 'Racine', 'Atqasuk',\n",
       "       'Whiteman Air Force Base', 'Independence', 'Mapleton', 'Biloxi',\n",
       "       'Carol Stream', 'Detroit', 'Mc Grath', 'Alma'], dtype=object)"
      ]
     },
     "execution_count": 190,
     "metadata": {},
     "output_type": "execute_result"
    }
   ],
   "source": [
    "# Unique: returns unique labels\n",
    "df3.City.unique()"
   ]
  },
  {
   "cell_type": "code",
   "execution_count": 191,
   "id": "d172d602",
   "metadata": {},
   "outputs": [
    {
     "data": {
      "text/plain": [
       "99"
      ]
     },
     "execution_count": 191,
     "metadata": {},
     "output_type": "execute_result"
    }
   ],
   "source": [
    "# NUnique returns the sum of the uniue labels\n",
    "df3.City.nunique()"
   ]
  },
  {
   "cell_type": "code",
   "execution_count": 193,
   "id": "0b64a72a",
   "metadata": {},
   "outputs": [
    {
     "data": {
      "text/plain": [
       "Stonewall       1\n",
       "Albion          1\n",
       "Eckert          1\n",
       "Haswell         1\n",
       "Kansas City     1\n",
       "               ..\n",
       "Kline           1\n",
       "Panacea         1\n",
       "Mesa            1\n",
       "Lawrenceburg    1\n",
       "Alma            1\n",
       "Name: City, Length: 99, dtype: int64"
      ]
     },
     "execution_count": 193,
     "metadata": {},
     "output_type": "execute_result"
    }
   ],
   "source": [
    "# Retuens categorical counts\n",
    "df3.City.value_counts()"
   ]
  },
  {
   "cell_type": "code",
   "execution_count": null,
   "id": "7a518140",
   "metadata": {},
   "outputs": [],
   "source": []
  }
 ],
 "metadata": {
  "kernelspec": {
   "display_name": "Python 3 (ipykernel)",
   "language": "python",
   "name": "python3"
  },
  "language_info": {
   "codemirror_mode": {
    "name": "ipython",
    "version": 3
   },
   "file_extension": ".py",
   "mimetype": "text/x-python",
   "name": "python",
   "nbconvert_exporter": "python",
   "pygments_lexer": "ipython3",
   "version": "3.9.7"
  }
 },
 "nbformat": 4,
 "nbformat_minor": 5
}
